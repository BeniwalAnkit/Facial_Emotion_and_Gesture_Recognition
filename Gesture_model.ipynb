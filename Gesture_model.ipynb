{
 "cells": [
  {
   "cell_type": "markdown",
   "id": "9e215894",
   "metadata": {},
   "source": [
    "### Importing the libraries"
   ]
  },
  {
   "cell_type": "code",
   "execution_count": null,
   "id": "b4ff00b0",
   "metadata": {},
   "outputs": [],
   "source": [
    "import keras\n",
    "import tensorflow as tf\n",
    "from tensorflow.keras.applications import VGG16\n",
    "from tensorflow.keras.preprocessing.image import ImageDataGenerator\n",
    "from tensorflow.keras.layers import Input, Conv2D, MaxPool2D, Dropout, BatchNormalization, Dense, Flatten\n",
    "from tensorflow.keras.models import Sequential, Model\n",
    "from tensorflow.keras.regularizers import l2\n",
    "from tensorflow.keras.optimizers import Adam\n",
    "import os"
   ]
  },
  {
   "cell_type": "code",
   "execution_count": null,
   "id": "e14c320d",
   "metadata": {},
   "outputs": [],
   "source": [
    "num_classes = 4\n",
    "\n",
    "Img_Height = 200\n",
    "Img_width = 200\n",
    "\n",
    "batch_size = 128"
   ]
  },
  {
   "cell_type": "code",
   "execution_count": null,
   "id": "2bd7d9f0",
   "metadata": {},
   "outputs": [],
   "source": [
    "train_dir = \"train1\"\n",
    "validation_dir = \"validation1\""
   ]
  },
  {
   "cell_type": "markdown",
   "id": "7c548ea3",
   "metadata": {},
   "source": [
    "### Image Data Augmentation"
   ]
  },
  {
   "cell_type": "code",
   "execution_count": null,
   "id": "2b552686",
   "metadata": {},
   "outputs": [],
   "source": [
    "train_datagen = ImageDataGenerator(rescale=1./255,\n",
    "                                   rotation_range=30,\n",
    "                                   shear_range=0.3,\n",
    "                                   zoom_range=0.3,\n",
    "                                   width_shift_range=0.4,\n",
    "                                   height_shift_range=0.4,\n",
    "                                   horizontal_flip=True,\n",
    "                                   fill_mode='nearest')\n",
    "\n",
    "validation_datagen = ImageDataGenerator(rescale=1./255)\n",
    "\n",
    "train_generator = train_datagen.flow_from_directory(train_dir,\n",
    "                                                    target_size=(Img_Height, Img_width),\n",
    "                                                    batch_size=batch_size,\n",
    "                                                    class_mode='categorical',\n",
    "                                                    shuffle=True)\n",
    "\n",
    "validation_generator = validation_datagen.flow_from_directory(validation_dir,\n",
    "                                                             target_size=(Img_Height, Img_width),\n",
    "                                                             batch_size=batch_size,\n",
    "                                                             class_mode='categorical',\n",
    "                                                             shuffle=True)"
   ]
  },
  {
   "cell_type": "code",
   "execution_count": null,
   "id": "3cf83c79",
   "metadata": {},
   "outputs": [],
   "source": [
    "VGG16_MODEL = VGG16(input_shape=(Img_width, Img_Height, 3), include_top=False, weights='imagenet')\n",
    "\n",
    "for layers in VGG16_MODEL.layers: \n",
    "    layers.trainable=False\n",
    "\n",
    "for layers in VGG16_MODEL.layers:\n",
    "    print(layers.trainable)"
   ]
  },
  {
   "cell_type": "code",
   "execution_count": null,
   "id": "7479eaf9",
   "metadata": {},
   "outputs": [],
   "source": [
    "# Input layer\n",
    "input_layer = VGG16_MODEL.output\n",
    "\n",
    "# Convolutional Layer\n",
    "Conv1 = Conv2D(filters=32, kernel_size=(3,3), strides=(1,1), padding='valid',\n",
    "               data_format='channels_last', activation='relu', \n",
    "               kernel_initializer=keras.initializers.he_normal(seed=0), \n",
    "               name='Conv1')(input_layer)\n",
    "\n",
    "# MaxPool Layer\n",
    "Pool1 = MaxPool2D(pool_size=(2,2),strides=(2,2),padding='valid', \n",
    "                  data_format='channels_last',name='Pool1')(Conv1)\n",
    "\n",
    "# Flatten\n",
    "flatten = Flatten(data_format='channels_last',name='Flatten')(Pool1)\n",
    "\n",
    "# Fully Connected layer-1\n",
    "FC1 = Dense(units=30, activation='relu', \n",
    "            kernel_initializer=keras.initializers.glorot_normal(seed=32), \n",
    "            name='FC1')(flatten)\n",
    "\n",
    "# Fully Connected layer-2\n",
    "FC2 = Dense(units=30, activation='relu', \n",
    "            kernel_initializer=keras.initializers.glorot_normal(seed=33),\n",
    "            name='FC2')(FC1)\n",
    "\n",
    "# Output layer\n",
    "Out = Dense(units=num_classes, activation='softmax', \n",
    "            kernel_initializer=keras.initializers.glorot_normal(seed=3), \n",
    "            name='Output')(FC2)\n",
    "\n",
    "model1 = Model(inputs=VGG16_MODEL.input,outputs=Out)"
   ]
  },
  {
   "cell_type": "code",
   "execution_count": null,
   "id": "28799b32",
   "metadata": {},
   "outputs": [],
   "source": [
    "model1.summary()"
   ]
  },
  {
   "cell_type": "code",
   "execution_count": null,
   "id": "929330ed",
   "metadata": {},
   "outputs": [],
   "source": [
    "from tensorflow.keras.callbacks import ModelCheckpoint\n",
    "from tensorflow.keras.callbacks import ReduceLROnPlateau\n",
    "from tensorflow.keras.callbacks import TensorBoard\n",
    "\n",
    "checkpoint = ModelCheckpoint(\"gesturenew.h5\", monitor='accuracy', verbose=1,\n",
    "    save_best_only=True, mode='auto', period=1)\n",
    "\n",
    "reduce = ReduceLROnPlateau(monitor='accuracy', factor=0.2, patience=5, min_lr=0.00001, verbose = 1)\n",
    "\n",
    "logdir='logsgesture'\n",
    "tensorboard_Visualization = TensorBoard(log_dir=logdir, histogram_freq=True)"
   ]
  },
  {
   "cell_type": "code",
   "execution_count": null,
   "id": "550788ef",
   "metadata": {},
   "outputs": [],
   "source": [
    "model1.compile(loss='categorical_crossentropy', optimizer=Adam(lr=0.001), metrics=['accuracy'])"
   ]
  },
  {
   "cell_type": "code",
   "execution_count": null,
   "id": "1e150c7d",
   "metadata": {},
   "outputs": [],
   "source": [
    "train_samples = 9600\n",
    "validation_samples = 2400\n",
    "\n",
    "epochs = 50\n",
    "\n",
    "batch_size = 128\n",
    "\n",
    "model1.fit(train_generator,\n",
    "           steps_per_epoch = train_samples//batch_size,\n",
    "           epochs = epochs,\n",
    "           callbacks = [checkpoint, reduce, tensorboard_Visualization],\n",
    "           validation_data = validation_generator,\n",
    "           validation_steps = validation_samples//batch_size)"
   ]
  }
 ],
 "metadata": {
  "kernelspec": {
   "display_name": "Python 3 (ipykernel)",
   "language": "python",
   "name": "python3"
  },
  "language_info": {
   "codemirror_mode": {
    "name": "ipython",
    "version": 3
   },
   "file_extension": ".py",
   "mimetype": "text/x-python",
   "name": "python",
   "nbconvert_exporter": "python",
   "pygments_lexer": "ipython3",
   "version": "3.9.7"
  }
 },
 "nbformat": 4,
 "nbformat_minor": 5
}
