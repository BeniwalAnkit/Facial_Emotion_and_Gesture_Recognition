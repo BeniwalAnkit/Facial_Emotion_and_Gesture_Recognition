{
 "cells": [
  {
   "cell_type": "markdown",
   "metadata": {
    "id": "3DR-eO17geWu"
   },
   "source": [
    "# Facial Emotion Recognition"
   ]
  },
  {
   "cell_type": "markdown",
   "metadata": {
    "id": "EMefrVPCg-60"
   },
   "source": [
    "### Installing and Importing the libraries"
   ]
  },
  {
   "cell_type": "code",
   "execution_count": 1,
   "metadata": {},
   "outputs": [
    {
     "name": "stdout",
     "output_type": "stream",
     "text": [
      "Requirement already satisfied: tqdm in c:\\users\\lenovo\\anaconda3\\lib\\site-packages (4.62.3)\n",
      "Requirement already satisfied: colorama in c:\\users\\lenovo\\anaconda3\\lib\\site-packages (from tqdm) (0.4.4)\n",
      "Note: you may need to restart the kernel to use updated packages.\n"
     ]
    }
   ],
   "source": [
    "pip install tqdm"
   ]
  },
  {
   "cell_type": "code",
   "execution_count": 2,
   "metadata": {},
   "outputs": [
    {
     "name": "stdout",
     "output_type": "stream",
     "text": [
      "Requirement already satisfied: opencv-python in c:\\users\\lenovo\\anaconda3\\lib\\site-packages (4.7.0.68)\n",
      "Requirement already satisfied: numpy>=1.19.3 in c:\\users\\lenovo\\anaconda3\\lib\\site-packages (from opencv-python) (1.20.3)\n",
      "Note: you may need to restart the kernel to use updated packages.\n"
     ]
    }
   ],
   "source": [
    "pip install opencv-python"
   ]
  },
  {
   "cell_type": "code",
   "execution_count": 3,
   "metadata": {
    "id": "s_r4tviw7sEb"
   },
   "outputs": [],
   "source": [
    "import tensorflow as tf\n",
    "from keras.preprocessing.image import ImageDataGenerator"
   ]
  },
  {
   "cell_type": "code",
   "execution_count": 4,
   "metadata": {},
   "outputs": [],
   "source": [
    "import pandas as pd\n",
    "import numpy as np \n",
    "import os\n",
    "import cv2\n",
    "from tqdm import tqdm"
   ]
  },
  {
   "cell_type": "code",
   "execution_count": 5,
   "metadata": {
    "colab": {
     "base_uri": "https://localhost:8080/",
     "height": 35
    },
    "id": "nNymIKuW78Dh",
    "outputId": "c0558582-e0a2-46fb-9d08-54c99c5f0b8a"
   },
   "outputs": [
    {
     "data": {
      "text/plain": [
       "'2.9.1'"
      ]
     },
     "execution_count": 5,
     "metadata": {},
     "output_type": "execute_result"
    }
   ],
   "source": [
    "tf.__version__"
   ]
  },
  {
   "cell_type": "markdown",
   "metadata": {},
   "source": [
    "### Read the data"
   ]
  },
  {
   "cell_type": "code",
   "execution_count": 6,
   "metadata": {},
   "outputs": [],
   "source": [
    "data = pd.read_csv(\"~/Desktop/fer2013/fer2013.csv\")"
   ]
  },
  {
   "cell_type": "code",
   "execution_count": 7,
   "metadata": {},
   "outputs": [
    {
     "data": {
      "text/html": [
       "<div>\n",
       "<style scoped>\n",
       "    .dataframe tbody tr th:only-of-type {\n",
       "        vertical-align: middle;\n",
       "    }\n",
       "\n",
       "    .dataframe tbody tr th {\n",
       "        vertical-align: top;\n",
       "    }\n",
       "\n",
       "    .dataframe thead th {\n",
       "        text-align: right;\n",
       "    }\n",
       "</style>\n",
       "<table border=\"1\" class=\"dataframe\">\n",
       "  <thead>\n",
       "    <tr style=\"text-align: right;\">\n",
       "      <th></th>\n",
       "      <th>emotion</th>\n",
       "      <th>pixels</th>\n",
       "      <th>Usage</th>\n",
       "    </tr>\n",
       "  </thead>\n",
       "  <tbody>\n",
       "    <tr>\n",
       "      <th>0</th>\n",
       "      <td>0</td>\n",
       "      <td>70 80 82 72 58 58 60 63 54 58 60 48 89 115 121...</td>\n",
       "      <td>Training</td>\n",
       "    </tr>\n",
       "    <tr>\n",
       "      <th>1</th>\n",
       "      <td>0</td>\n",
       "      <td>151 150 147 155 148 133 111 140 170 174 182 15...</td>\n",
       "      <td>Training</td>\n",
       "    </tr>\n",
       "    <tr>\n",
       "      <th>2</th>\n",
       "      <td>2</td>\n",
       "      <td>231 212 156 164 174 138 161 173 182 200 106 38...</td>\n",
       "      <td>Training</td>\n",
       "    </tr>\n",
       "    <tr>\n",
       "      <th>3</th>\n",
       "      <td>4</td>\n",
       "      <td>24 32 36 30 32 23 19 20 30 41 21 22 32 34 21 1...</td>\n",
       "      <td>Training</td>\n",
       "    </tr>\n",
       "    <tr>\n",
       "      <th>4</th>\n",
       "      <td>6</td>\n",
       "      <td>4 0 0 0 0 0 0 0 0 0 0 0 3 15 23 28 48 50 58 84...</td>\n",
       "      <td>Training</td>\n",
       "    </tr>\n",
       "  </tbody>\n",
       "</table>\n",
       "</div>"
      ],
      "text/plain": [
       "   emotion                                             pixels     Usage\n",
       "0        0  70 80 82 72 58 58 60 63 54 58 60 48 89 115 121...  Training\n",
       "1        0  151 150 147 155 148 133 111 140 170 174 182 15...  Training\n",
       "2        2  231 212 156 164 174 138 161 173 182 200 106 38...  Training\n",
       "3        4  24 32 36 30 32 23 19 20 30 41 21 22 32 34 21 1...  Training\n",
       "4        6  4 0 0 0 0 0 0 0 0 0 0 0 3 15 23 28 48 50 58 84...  Training"
      ]
     },
     "execution_count": 7,
     "metadata": {},
     "output_type": "execute_result"
    }
   ],
   "source": [
    "data.head()"
   ]
  },
  {
   "cell_type": "markdown",
   "metadata": {},
   "source": [
    "### Data Preprocessing"
   ]
  },
  {
   "cell_type": "code",
   "execution_count": 8,
   "metadata": {},
   "outputs": [
    {
     "name": "stdout",
     "output_type": "stream",
     "text": [
      "{0, 1, 2, 3, 4, 5, 6}\n",
      "{'PrivateTest', 'PublicTest', 'Training'}\n"
     ]
    }
   ],
   "source": [
    "labels = []\n",
    "usage = []\n",
    "\n",
    "for i in data[\"emotion\"]:\n",
    "    labels.append(i)\n",
    "    \n",
    "for i in data[\"Usage\"]:\n",
    "    usage.append(i)\n",
    "    \n",
    "print(set(labels))\n",
    "print(set(usage))"
   ]
  },
  {
   "cell_type": "code",
   "execution_count": null,
   "metadata": {},
   "outputs": [],
   "source": [
    "count0 = 0\n",
    "\n",
    "for i, j, k in tqdm(zip(data[\"emotion\"], data[\"pixels\"], data[\"Usage\"])):\n",
    "    pixel = []\n",
    "    pixels = j.split(' ')\n",
    "    for m in pixels:\n",
    "        value = float(m)\n",
    "        pixel.append(value)\n",
    "    pixel = np.array(pixel)\n",
    "    image = pixel.reshape(48, 48)\n",
    "    \n",
    "    if k == \"Training\":\n",
    "        if not os.path.exists(\"train\"):\n",
    "            os.mkdir(\"train\")\n",
    "        if i == 0:\n",
    "            if not os.path.exists(\"train/Angry\"):\n",
    "                os.mkdir(\"train/Angry\")\n",
    "                path = \"train/Angry/\" + str(count0) + \".jpg\"\n",
    "                cv2.imwrite(path , image)\n",
    "                count0 += 1\n",
    "            else:\n",
    "                path = \"train/Angry/\" + str(count0) + \".jpg\"\n",
    "                cv2.imwrite(path , image)\n",
    "                count0 += 1\n",
    "    else:\n",
    "        if not os.path.exists(\"validation\"):\n",
    "            os.mkdir(\"validation\")\n",
    "        if i == 0:\n",
    "            if not os.path.exists(\"validation/Angry\"):\n",
    "                os.mkdir(\"validation/Angry\")\n",
    "                path = \"validation/Angry/\" + str(count0) + \".jpg\"\n",
    "                cv2.imwrite(path , image)\n",
    "                count0 += 1\n",
    "            else:\n",
    "                path = \"validation/Angry/\" + str(count0) + \".jpg\"\n",
    "                cv2.imwrite(path , image)\n",
    "                count0 += 1"
   ]
  },
  {
   "cell_type": "code",
   "execution_count": null,
   "metadata": {},
   "outputs": [],
   "source": [
    "count0 = 0\n",
    "\n",
    "for i, j, k in tqdm(zip(data[\"emotion\"], data[\"pixels\"], data[\"Usage\"])):\n",
    "    pixel = []\n",
    "    pixels = j.split(' ')\n",
    "    for m in pixels:\n",
    "        value = float(m)\n",
    "        pixel.append(value)\n",
    "    pixel = np.array(pixel)\n",
    "    image = pixel.reshape(48, 48)\n",
    "    \n",
    "    if k == \"Training\":\n",
    "        if not os.path.exists(\"train\"):\n",
    "            os.mkdir(\"train\")\n",
    "        if i == 1:\n",
    "            if not os.path.exists(\"train/Disgust\"):\n",
    "                os.mkdir(\"train/Disgust\")\n",
    "                path = \"train/Disgust/\" + str(count0) + \".jpg\"\n",
    "                cv2.imwrite(path , image)\n",
    "                count0 += 1\n",
    "            else:\n",
    "                path = \"train/Disgust/\" + str(count0) + \".jpg\"\n",
    "                cv2.imwrite(path , image)\n",
    "                count0 += 1\n",
    "    else:\n",
    "        if not os.path.exists(\"validation\"):\n",
    "            os.mkdir(\"validation\")\n",
    "        if i == 1:\n",
    "            if not os.path.exists(\"validation/Disgust\"):\n",
    "                os.mkdir(\"validation/Disgust\")\n",
    "                path = \"validation/Disgust/\" + str(count0) + \".jpg\"\n",
    "                cv2.imwrite(path , image)\n",
    "                count0 += 1\n",
    "            else:\n",
    "                path = \"validation/Disgust/\" + str(count0) + \".jpg\"\n",
    "                cv2.imwrite(path , image)\n",
    "                count0 += 1"
   ]
  },
  {
   "cell_type": "code",
   "execution_count": null,
   "metadata": {},
   "outputs": [],
   "source": [
    "count0 = 0\n",
    "\n",
    "for i, j, k in tqdm(zip(data[\"emotion\"], data[\"pixels\"], data[\"Usage\"])):\n",
    "    pixel = []\n",
    "    pixels = j.split(' ')\n",
    "    for m in pixels:\n",
    "        value = float(m)\n",
    "        pixel.append(value)\n",
    "    pixel = np.array(pixel)\n",
    "    image = pixel.reshape(48, 48)\n",
    "    \n",
    "    if k == \"Training\":\n",
    "        if not os.path.exists(\"train\"):\n",
    "            os.mkdir(\"train\")\n",
    "        if i == 2:\n",
    "            if not os.path.exists(\"train/Fear\"):\n",
    "                os.mkdir(\"train/Fear\")\n",
    "                path = \"train/Fear/\" + str(count0) + \".jpg\"\n",
    "                cv2.imwrite(path , image)\n",
    "                count0 += 1\n",
    "            else:\n",
    "                path = \"train/Fear/\" + str(count0) + \".jpg\"\n",
    "                cv2.imwrite(path , image)\n",
    "                count0 += 1\n",
    "    else:\n",
    "        if not os.path.exists(\"validation\"):\n",
    "            os.mkdir(\"validation\")\n",
    "        if i == 2:\n",
    "            if not os.path.exists(\"validation/Fear\"):\n",
    "                os.mkdir(\"validation/Fear\")\n",
    "                path = \"validation/Fear/\" + str(count0) + \".jpg\"\n",
    "                cv2.imwrite(path , image)\n",
    "                count0 += 1\n",
    "            else:\n",
    "                path = \"validation/Fear/\" + str(count0) + \".jpg\"\n",
    "                cv2.imwrite(path , image)\n",
    "                count0 += 1"
   ]
  },
  {
   "cell_type": "code",
   "execution_count": null,
   "metadata": {},
   "outputs": [],
   "source": [
    "count0 = 0\n",
    "\n",
    "for i, j, k in tqdm(zip(data[\"emotion\"], data[\"pixels\"], data[\"Usage\"])):\n",
    "    pixel = []\n",
    "    pixels = j.split(' ')\n",
    "    for m in pixels:\n",
    "        value = float(m)\n",
    "        pixel.append(value)\n",
    "    pixel = np.array(pixel)\n",
    "    image = pixel.reshape(48, 48)\n",
    "    \n",
    "    if k == \"Training\":\n",
    "        if not os.path.exists(\"train\"):\n",
    "            os.mkdir(\"train\")\n",
    "        if i == 3:\n",
    "            if not os.path.exists(\"train/Happy\"):\n",
    "                os.mkdir(\"train/Happy\")\n",
    "                path = \"train/Happy/\" + str(count0) + \".jpg\"\n",
    "                cv2.imwrite(path , image)\n",
    "                count0 += 1\n",
    "            else:\n",
    "                path = \"train/Happy/\" + str(count0) + \".jpg\"\n",
    "                cv2.imwrite(path , image)\n",
    "                count0 += 1\n",
    "    else:\n",
    "        if not os.path.exists(\"validation\"):\n",
    "            os.mkdir(\"validation\")\n",
    "        if i == 3:\n",
    "            if not os.path.exists(\"validation/Happy\"):\n",
    "                os.mkdir(\"validation/Happy\")\n",
    "                path = \"validation/Happy/\" + str(count0) + \".jpg\"\n",
    "                cv2.imwrite(path , image)\n",
    "                count0 += 1\n",
    "            else:\n",
    "                path = \"validation/Happy/\" + str(count0) + \".jpg\"\n",
    "                cv2.imwrite(path , image)\n",
    "                count0 += 1"
   ]
  },
  {
   "cell_type": "code",
   "execution_count": null,
   "metadata": {},
   "outputs": [],
   "source": [
    "count0 = 0\n",
    "\n",
    "for i, j, k in tqdm(zip(data[\"emotion\"], data[\"pixels\"], data[\"Usage\"])):\n",
    "    pixel = []\n",
    "    pixels = j.split(' ')\n",
    "    for m in pixels:\n",
    "        value = float(m)\n",
    "        pixel.append(value)\n",
    "    pixel = np.array(pixel)\n",
    "    image = pixel.reshape(48, 48)\n",
    "    \n",
    "    if k == \"Training\":\n",
    "        if not os.path.exists(\"train\"):\n",
    "            os.mkdir(\"train\")\n",
    "        if i == 4:\n",
    "            if not os.path.exists(\"train/Sad\"):\n",
    "                os.mkdir(\"train/Sad\")\n",
    "                path = \"train/Sad/\" + str(count0) + \".jpg\"\n",
    "                cv2.imwrite(path , image)\n",
    "                count0 += 1\n",
    "            else:\n",
    "                path = \"train/Sad/\" + str(count0) + \".jpg\"\n",
    "                cv2.imwrite(path , image)\n",
    "                count0 += 1\n",
    "    else:\n",
    "        if not os.path.exists(\"validation\"):\n",
    "            os.mkdir(\"validation\")\n",
    "        if i == 4:\n",
    "            if not os.path.exists(\"validation/Sad\"):\n",
    "                os.mkdir(\"validation/Sad\")\n",
    "                path = \"validation/Sad/\" + str(count0) + \".jpg\"\n",
    "                cv2.imwrite(path , image)\n",
    "                count0 += 1\n",
    "            else:\n",
    "                path = \"validation/Sad/\" + str(count0) + \".jpg\"\n",
    "                cv2.imwrite(path , image)\n",
    "                count0 += 1"
   ]
  },
  {
   "cell_type": "code",
   "execution_count": null,
   "metadata": {},
   "outputs": [],
   "source": [
    "count0 = 0\n",
    "\n",
    "for i, j, k in tqdm(zip(data[\"emotion\"], data[\"pixels\"], data[\"Usage\"])):\n",
    "    pixel = []\n",
    "    pixels = j.split(' ')\n",
    "    for m in pixels:\n",
    "        value = float(m)\n",
    "        pixel.append(value)\n",
    "    pixel = np.array(pixel)\n",
    "    image = pixel.reshape(48, 48)\n",
    "    \n",
    "    if k == \"Training\":\n",
    "        if not os.path.exists(\"train\"):\n",
    "            os.mkdir(\"train\")\n",
    "        if i == 5:\n",
    "            if not os.path.exists(\"train/Surprise\"):\n",
    "                os.mkdir(\"train/Surprise\")\n",
    "                path = \"train/Surprise/\" + str(count0) + \".jpg\"\n",
    "                cv2.imwrite(path , image)\n",
    "                count0 += 1\n",
    "            else:\n",
    "                path = \"train/Surprise/\" + str(count0) + \".jpg\"\n",
    "                cv2.imwrite(path , image)\n",
    "                count0 += 1\n",
    "    else:\n",
    "        if not os.path.exists(\"validation\"):\n",
    "            os.mkdir(\"validation\")\n",
    "        if i == 5:\n",
    "            if not os.path.exists(\"validation/Surprise\"):\n",
    "                os.mkdir(\"validation/Surprise\")\n",
    "                path = \"validation/Surprise/\" + str(count0) + \".jpg\"\n",
    "                cv2.imwrite(path , image)\n",
    "                count0 += 1\n",
    "            else:\n",
    "                path = \"validation/Surprise/\" + str(count0) + \".jpg\"\n",
    "                cv2.imwrite(path , image)\n",
    "                count0 += 1"
   ]
  },
  {
   "cell_type": "code",
   "execution_count": null,
   "metadata": {},
   "outputs": [],
   "source": [
    "count0 = 0\n",
    "\n",
    "for i, j, k in tqdm(zip(data[\"emotion\"], data[\"pixels\"], data[\"Usage\"])):\n",
    "    pixel = []\n",
    "    pixels = j.split(' ')\n",
    "    for m in pixels:\n",
    "        value = float(m)\n",
    "        pixel.append(value)\n",
    "    pixel = np.array(pixel)\n",
    "    image = pixel.reshape(48, 48)\n",
    "    \n",
    "    if k == \"Training\":\n",
    "        if not os.path.exists(\"train\"):\n",
    "            os.mkdir(\"train\")\n",
    "        if i == 6:\n",
    "            if not os.path.exists(\"train/Neutral\"):\n",
    "                os.mkdir(\"train/Neutral\")\n",
    "                path = \"train/Neutral/\" + str(count0) + \".jpg\"\n",
    "                cv2.imwrite(path , image)\n",
    "                count0 += 1\n",
    "            else:\n",
    "                path = \"train/Neutral/\" + str(count0) + \".jpg\"\n",
    "                cv2.imwrite(path , image)\n",
    "                count0 += 1\n",
    "    else:\n",
    "        if not os.path.exists(\"validation\"):\n",
    "            os.mkdir(\"validation\")\n",
    "        if i == 6:\n",
    "            if not os.path.exists(\"validation/Neutral\"):\n",
    "                os.mkdir(\"validation/Neutral\")\n",
    "                path = \"validation/Neutral/\" + str(count0) + \".jpg\"\n",
    "                cv2.imwrite(path , image)\n",
    "                count0 += 1\n",
    "            else:\n",
    "                path = \"validation/Neutral/\" + str(count0) + \".jpg\"\n",
    "                cv2.imwrite(path , image)\n",
    "                count0 += 1"
   ]
  },
  {
   "cell_type": "markdown",
   "metadata": {},
   "source": [
    "### Exploratory Data Analysis"
   ]
  },
  {
   "cell_type": "code",
   "execution_count": 9,
   "metadata": {},
   "outputs": [],
   "source": [
    "from os import listdir"
   ]
  },
  {
   "cell_type": "code",
   "execution_count": 10,
   "metadata": {},
   "outputs": [
    {
     "data": {
      "text/plain": [
       "[3995, 4097, 7215, 4965, 4830, 3171]"
      ]
     },
     "execution_count": 10,
     "metadata": {},
     "output_type": "execute_result"
    }
   ],
   "source": [
    "train_dir = \"C:/Users/LENOVO/Desktop/fer2013/train\"\n",
    "train_counts = []\n",
    "\n",
    "for folder in os.listdir(train_dir):\n",
    "    class_path = os.path.join(train_dir, folder)\n",
    "    list_train = []\n",
    "    count = 0\n",
    "    for file in os.listdir(class_path):\n",
    "        count +=1\n",
    "    \n",
    "    train_counts.append(count)\n",
    "    \n",
    "train_counts"
   ]
  },
  {
   "cell_type": "code",
   "execution_count": 11,
   "metadata": {},
   "outputs": [
    {
     "data": {
      "text/plain": [
       "Text(0, 0.5, 'Counts')"
      ]
     },
     "execution_count": 11,
     "metadata": {},
     "output_type": "execute_result"
    },
    {
     "data": {
      "image/png": "[encoded data removed]",
      "text/plain": [
       "<Figure size 432x288 with 1 Axes>"
      ]
     },
     "metadata": {
      "needs_background": "light"
     },
     "output_type": "display_data"
    }
   ],
   "source": [
    "from matplotlib import pyplot as plt\n",
    "classes = {0:'Angry',1:'Fear',2:'Happy',3:'Sad',4:'Surprise',5:'Neutral'}\n",
    "plt.bar(classes.values(), train_counts, width=0.5)\n",
    "plt.title(\"Bar Graph of Train Data\")\n",
    "plt.xlabel(\"Classes\")\n",
    "plt.ylabel(\"Counts\")"
   ]
  },
  {
   "cell_type": "code",
   "execution_count": 12,
   "metadata": {},
   "outputs": [
    {
     "data": {
      "image/png": "[encoded data removed]",
      "text/plain": [
       "<Figure size 432x288 with 1 Axes>"
      ]
     },
     "metadata": {
      "needs_background": "light"
     },
     "output_type": "display_data"
    }
   ],
   "source": [
    "plt.scatter(classes.values(), train_counts)\n",
    "plt.plot(classes.values(), train_counts, '-o')\n",
    "plt.title(\"Scatter Graph of Train Data\")\n",
    "plt.xlabel(\"Classes\")\n",
    "plt.ylabel(\"Counts\")\n",
    "plt.show()"
   ]
  },
  {
   "cell_type": "markdown",
   "metadata": {
    "id": "MvE-heJNo3GG"
   },
   "source": [
    "### Preprocessing the Training set"
   ]
  },
  {
   "cell_type": "code",
   "execution_count": 13,
   "metadata": {
    "id": "1GZ9rjpvBpf9"
   },
   "outputs": [
    {
     "name": "stdout",
     "output_type": "stream",
     "text": [
      "Found 28273 images belonging to 6 classes.\n"
     ]
    }
   ],
   "source": [
    "train_datagen = ImageDataGenerator(\n",
    "          rescale = 1./255,\n",
    "          rotation_range=60,\n",
    "          shear_range =0.2,\n",
    "          zoom_range=0.2,\n",
    "          width_shift_range=0.5,\n",
    "          height_shift_range=0.5,\n",
    "          horizontal_flip=True,\n",
    "          fill_mode='nearest')\n",
    "training_set = train_datagen.flow_from_directory(\n",
    "          'train',\n",
    "          color_mode='grayscale',\n",
    "          target_size=(48,48),\n",
    "          batch_size=32,\n",
    "          class_mode='categorical',\n",
    "          shuffle = True)"
   ]
  },
  {
   "cell_type": "markdown",
   "metadata": {
    "id": "mrCMmGw9pHys"
   },
   "source": [
    "### Preprocessing the Test set"
   ]
  },
  {
   "cell_type": "code",
   "execution_count": 14,
   "metadata": {
    "id": "yCxGB2QeBrhL"
   },
   "outputs": [
    {
     "name": "stdout",
     "output_type": "stream",
     "text": [
      "Found 7067 images belonging to 6 classes.\n"
     ]
    }
   ],
   "source": [
    "validation_datagen = ImageDataGenerator(rescale = 1./255)\n",
    "test_set = train_datagen.flow_from_directory(\n",
    "          'validation',\n",
    "          color_mode='grayscale',\n",
    "          target_size=(48,48),\n",
    "          batch_size=32,\n",
    "          class_mode='categorical',\n",
    "          shuffle = True)"
   ]
  },
  {
   "cell_type": "markdown",
   "metadata": {
    "id": "ces1gXY2lmoX"
   },
   "source": [
    "### Initialising the CNN model"
   ]
  },
  {
   "cell_type": "code",
   "execution_count": 15,
   "metadata": {
    "id": "gZ_FmwlLDXAl"
   },
   "outputs": [],
   "source": [
    "cnn = tf.keras.models.Sequential()"
   ]
  },
  {
   "cell_type": "markdown",
   "metadata": {
    "id": "u5YJj_XMl5LF"
   },
   "source": [
    "### Convolution Block-1"
   ]
  },
  {
   "cell_type": "code",
   "execution_count": 16,
   "metadata": {
    "id": "zuXKwQM5Djig"
   },
   "outputs": [],
   "source": [
    "cnn.add(tf.keras.layers.Conv2D(filters=32, kernel_size=3, padding='same', \n",
    "                               activation='relu', input_shape=[48,48,1], name = 'Conv1'))"
   ]
  },
  {
   "cell_type": "code",
   "execution_count": 17,
   "metadata": {},
   "outputs": [],
   "source": [
    "cnn.add(tf.keras.layers.BatchNormalization(name=\"Batch_Norm1\"))"
   ]
  },
  {
   "cell_type": "code",
   "execution_count": 18,
   "metadata": {},
   "outputs": [],
   "source": [
    "cnn.add(tf.keras.layers.Conv2D(filters=32, kernel_size=3, padding='same', activation='relu', name = 'Conv2'))"
   ]
  },
  {
   "cell_type": "code",
   "execution_count": 19,
   "metadata": {},
   "outputs": [],
   "source": [
    "cnn.add(tf.keras.layers.BatchNormalization(name=\"Batch_Norm2\"))"
   ]
  },
  {
   "cell_type": "code",
   "execution_count": 20,
   "metadata": {
    "id": "jXMHTp1FEQ4L"
   },
   "outputs": [],
   "source": [
    "cnn.add(tf.keras.layers.MaxPool2D(pool_size=2, strides=2, name=\"Maxpool1\"))"
   ]
  },
  {
   "cell_type": "code",
   "execution_count": 21,
   "metadata": {},
   "outputs": [],
   "source": [
    "cnn.add(tf.keras.layers.Dropout(0.2, name=\"Dropout1\"))"
   ]
  },
  {
   "cell_type": "markdown",
   "metadata": {
    "id": "xaTOgD8rm4mU"
   },
   "source": [
    "### Block 2"
   ]
  },
  {
   "cell_type": "code",
   "execution_count": 22,
   "metadata": {
    "id": "AFxU6KC6Ffsb"
   },
   "outputs": [],
   "source": [
    "cnn.add(tf.keras.layers.Conv2D(filters=64, kernel_size=3, padding='same', activation='relu', name = 'Conv3'))\n",
    "cnn.add(tf.keras.layers.BatchNormalization(name=\"Batch_Norm3\"))\n",
    "cnn.add(tf.keras.layers.Conv2D(filters=64, kernel_size=3, padding='same', activation='relu', name = 'Conv4'))\n",
    "cnn.add(tf.keras.layers.BatchNormalization(name=\"Batch_Norm4\"))\n",
    "cnn.add(tf.keras.layers.MaxPool2D(pool_size=2, strides=2, name=\"Maxpool2\"))\n",
    "cnn.add(tf.keras.layers.Dropout(0.2, name=\"Dropout2\"))"
   ]
  },
  {
   "cell_type": "markdown",
   "metadata": {},
   "source": [
    "### Block 3"
   ]
  },
  {
   "cell_type": "code",
   "execution_count": 23,
   "metadata": {},
   "outputs": [],
   "source": [
    "cnn.add(tf.keras.layers.Conv2D(filters=128, kernel_size=3, padding='same', activation='relu', name = 'Conv5'))\n",
    "cnn.add(tf.keras.layers.BatchNormalization(name=\"Batch_Norm5\"))\n",
    "cnn.add(tf.keras.layers.Conv2D(filters=128, kernel_size=3, padding='same', activation='relu', name = 'Conv6'))\n",
    "cnn.add(tf.keras.layers.BatchNormalization(name=\"Batch_Norm6\"))\n",
    "cnn.add(tf.keras.layers.MaxPool2D(pool_size=2, strides=2, name=\"Maxpool3\"))\n",
    "cnn.add(tf.keras.layers.Dropout(0.2, name=\"Dropout3\"))"
   ]
  },
  {
   "cell_type": "markdown",
   "metadata": {
    "id": "tmiEuvTunKfk"
   },
   "source": [
    "### Flattening"
   ]
  },
  {
   "cell_type": "code",
   "execution_count": 24,
   "metadata": {
    "id": "IEkV5N0CGXvt"
   },
   "outputs": [],
   "source": [
    "cnn.add(tf.keras.layers.Flatten())"
   ]
  },
  {
   "cell_type": "markdown",
   "metadata": {
    "id": "dAoSECOm203v"
   },
   "source": [
    "### Full Connection"
   ]
  },
  {
   "cell_type": "code",
   "execution_count": 25,
   "metadata": {
    "id": "-6MCZDbQGhHE"
   },
   "outputs": [],
   "source": [
    "cnn.add(tf.keras.layers.Dense(units=64, activation='relu'))\n",
    "cnn.add(tf.keras.layers.BatchNormalization(name=\"Batch_Norm7\"))\n",
    "cnn.add(tf.keras.layers.Dropout(0.5, name=\"Dropout4\"))"
   ]
  },
  {
   "cell_type": "markdown",
   "metadata": {
    "id": "yTldFvbX28Na"
   },
   "source": [
    "### Output Layer"
   ]
  },
  {
   "cell_type": "code",
   "execution_count": 26,
   "metadata": {
    "id": "YPXrqq0MG1tr"
   },
   "outputs": [],
   "source": [
    "cnn.add(tf.keras.layers.Dense(units=6, activation='softmax'))"
   ]
  },
  {
   "cell_type": "markdown",
   "metadata": {
    "id": "D6XkI90snSDl"
   },
   "source": [
    "## Training the CNN model"
   ]
  },
  {
   "cell_type": "markdown",
   "metadata": {
    "id": "vfrFQACEnc6i"
   },
   "source": [
    "### Compiling the CNN model"
   ]
  },
  {
   "cell_type": "code",
   "execution_count": 27,
   "metadata": {
    "id": "BKIvdx2rIFdE"
   },
   "outputs": [],
   "source": [
    "cnn.compile(optimizer='adam', loss='categorical_crossentropy', metrics=['accuracy'])"
   ]
  },
  {
   "cell_type": "markdown",
   "metadata": {
    "id": "ehS-v3MIpX2h"
   },
   "source": [
    "### Training the CNN on the Training set and evaluating it on the Test set"
   ]
  },
  {
   "cell_type": "code",
   "execution_count": 29,
   "metadata": {
    "id": "cRJzv3FDIc34",
    "scrolled": false
   },
   "outputs": [
    {
     "name": "stdout",
     "output_type": "stream",
     "text": [
      "Epoch 1/50\n",
      "884/884 [==============================] - 251s 284ms/step - loss: 1.9399 - accuracy: 0.2105 - val_loss: 1.7394 - val_accuracy: 0.2488\n",
      "Epoch 2/50\n",
      "884/884 [==============================] - 264s 299ms/step - loss: 1.7593 - accuracy: 0.2446 - val_loss: 1.7326 - val_accuracy: 0.2587\n",
      "Epoch 3/50\n",
      "884/884 [==============================] - 255s 288ms/step - loss: 1.7365 - accuracy: 0.2552 - val_loss: 1.7327 - val_accuracy: 0.2580\n",
      "Epoch 4/50\n",
      "884/884 [==============================] - 268s 303ms/step - loss: 1.7350 - accuracy: 0.2559 - val_loss: 1.7636 - val_accuracy: 0.2495\n",
      "Epoch 5/50\n",
      "884/884 [==============================] - 300s 339ms/step - loss: 1.7286 - accuracy: 0.2602 - val_loss: 1.7318 - val_accuracy: 0.2522\n",
      "Epoch 6/50\n",
      "884/884 [==============================] - 346s 391ms/step - loss: 1.6960 - accuracy: 0.2803 - val_loss: 3.7953 - val_accuracy: 0.1218\n",
      "Epoch 7/50\n",
      "884/884 [==============================] - 335s 379ms/step - loss: 1.6700 - accuracy: 0.2949 - val_loss: 2.0066 - val_accuracy: 0.2667\n",
      "Epoch 8/50\n",
      "884/884 [==============================] - 308s 348ms/step - loss: 1.6238 - accuracy: 0.3225 - val_loss: 1.5938 - val_accuracy: 0.3484\n",
      "Epoch 9/50\n",
      "884/884 [==============================] - 279s 315ms/step - loss: 1.5859 - accuracy: 0.3450 - val_loss: 1.6509 - val_accuracy: 0.3131\n",
      "Epoch 10/50\n",
      "884/884 [==============================] - 267s 302ms/step - loss: 1.5360 - accuracy: 0.3786 - val_loss: 1.5504 - val_accuracy: 0.3761\n",
      "Epoch 11/50\n",
      "884/884 [==============================] - 288s 326ms/step - loss: 1.5055 - accuracy: 0.3950 - val_loss: 1.4798 - val_accuracy: 0.4043\n",
      "Epoch 12/50\n",
      "884/884 [==============================] - 289s 327ms/step - loss: 1.4737 - accuracy: 0.4080 - val_loss: 1.4956 - val_accuracy: 0.3874\n",
      "Epoch 13/50\n",
      "884/884 [==============================] - 285s 323ms/step - loss: 1.4493 - accuracy: 0.4198 - val_loss: 1.4178 - val_accuracy: 0.4295\n",
      "Epoch 14/50\n",
      "884/884 [==============================] - 287s 325ms/step - loss: 1.4327 - accuracy: 0.4289 - val_loss: 1.8078 - val_accuracy: 0.2485\n",
      "Epoch 15/50\n",
      "884/884 [==============================] - 284s 322ms/step - loss: 1.4202 - accuracy: 0.4377 - val_loss: 1.3782 - val_accuracy: 0.4466\n",
      "Epoch 16/50\n",
      "884/884 [==============================] - 287s 324ms/step - loss: 1.4041 - accuracy: 0.4384 - val_loss: 1.4325 - val_accuracy: 0.4307\n",
      "Epoch 17/50\n",
      "884/884 [==============================] - 263s 298ms/step - loss: 1.3944 - accuracy: 0.4474 - val_loss: 1.3639 - val_accuracy: 0.4647\n",
      "Epoch 18/50\n",
      "884/884 [==============================] - 263s 298ms/step - loss: 1.3899 - accuracy: 0.4525 - val_loss: 1.3321 - val_accuracy: 0.4735\n",
      "Epoch 19/50\n",
      "884/884 [==============================] - 260s 294ms/step - loss: 1.3740 - accuracy: 0.4547 - val_loss: 1.3528 - val_accuracy: 0.4576\n",
      "Epoch 20/50\n",
      "884/884 [==============================] - 247s 279ms/step - loss: 1.3628 - accuracy: 0.4617 - val_loss: 1.3572 - val_accuracy: 0.4585\n",
      "Epoch 21/50\n",
      "884/884 [==============================] - 250s 283ms/step - loss: 1.3650 - accuracy: 0.4649 - val_loss: 1.3257 - val_accuracy: 0.4696\n",
      "Epoch 22/50\n",
      "884/884 [==============================] - 249s 282ms/step - loss: 1.3569 - accuracy: 0.4706 - val_loss: 1.2888 - val_accuracy: 0.4965\n",
      "Epoch 23/50\n",
      "884/884 [==============================] - 241s 272ms/step - loss: 1.3448 - accuracy: 0.4713 - val_loss: 1.3002 - val_accuracy: 0.4970\n",
      "Epoch 24/50\n",
      "884/884 [==============================] - 236s 267ms/step - loss: 1.3420 - accuracy: 0.4709 - val_loss: 1.2836 - val_accuracy: 0.4936\n",
      "Epoch 25/50\n",
      "884/884 [==============================] - 244s 276ms/step - loss: 1.3331 - accuracy: 0.4776 - val_loss: 1.5599 - val_accuracy: 0.3628\n",
      "Epoch 26/50\n",
      "884/884 [==============================] - 252s 285ms/step - loss: 1.3232 - accuracy: 0.4824 - val_loss: 1.3035 - val_accuracy: 0.4868\n",
      "Epoch 27/50\n",
      "884/884 [==============================] - 266s 301ms/step - loss: 1.3263 - accuracy: 0.4820 - val_loss: 1.2687 - val_accuracy: 0.5043\n",
      "Epoch 28/50\n",
      "884/884 [==============================] - 272s 307ms/step - loss: 1.3148 - accuracy: 0.4888 - val_loss: 1.3179 - val_accuracy: 0.4828\n",
      "Epoch 29/50\n",
      "884/884 [==============================] - 272s 307ms/step - loss: 1.3204 - accuracy: 0.4823 - val_loss: 1.2558 - val_accuracy: 0.5098\n",
      "Epoch 30/50\n",
      "884/884 [==============================] - 272s 308ms/step - loss: 1.3054 - accuracy: 0.4934 - val_loss: 1.3776 - val_accuracy: 0.4552\n",
      "Epoch 31/50\n",
      "884/884 [==============================] - 268s 304ms/step - loss: 1.2981 - accuracy: 0.4956 - val_loss: 1.2698 - val_accuracy: 0.5029\n",
      "Epoch 32/50\n",
      "884/884 [==============================] - 244s 276ms/step - loss: 1.3036 - accuracy: 0.4915 - val_loss: 1.3238 - val_accuracy: 0.4838\n",
      "Epoch 33/50\n",
      "884/884 [==============================] - 241s 272ms/step - loss: 1.2942 - accuracy: 0.4959 - val_loss: 1.2760 - val_accuracy: 0.5013\n",
      "Epoch 34/50\n",
      "884/884 [==============================] - 239s 271ms/step - loss: 1.2917 - accuracy: 0.5002 - val_loss: 1.2404 - val_accuracy: 0.5138\n",
      "Epoch 35/50\n",
      "884/884 [==============================] - 244s 276ms/step - loss: 1.2900 - accuracy: 0.4989 - val_loss: 1.2243 - val_accuracy: 0.5173\n",
      "Epoch 36/50\n",
      "884/884 [==============================] - 244s 276ms/step - loss: 1.2830 - accuracy: 0.5037 - val_loss: 1.2194 - val_accuracy: 0.5229\n",
      "Epoch 37/50\n",
      "884/884 [==============================] - 260s 294ms/step - loss: 1.2791 - accuracy: 0.5019 - val_loss: 1.2336 - val_accuracy: 0.5156\n",
      "Epoch 38/50\n",
      "884/884 [==============================] - 253s 286ms/step - loss: 1.2810 - accuracy: 0.5034 - val_loss: 1.2577 - val_accuracy: 0.5088\n",
      "Epoch 39/50\n",
      "884/884 [==============================] - 254s 288ms/step - loss: 1.2696 - accuracy: 0.5089 - val_loss: 1.2626 - val_accuracy: 0.5039\n",
      "Epoch 40/50\n",
      "884/884 [==============================] - 240s 271ms/step - loss: 1.2683 - accuracy: 0.5081 - val_loss: 1.2105 - val_accuracy: 0.5282\n",
      "Epoch 41/50\n",
      "884/884 [==============================] - 240s 272ms/step - loss: 1.2741 - accuracy: 0.5063 - val_loss: 1.2422 - val_accuracy: 0.5120\n",
      "Epoch 42/50\n",
      "884/884 [==============================] - 245s 277ms/step - loss: 1.2669 - accuracy: 0.5100 - val_loss: 1.2081 - val_accuracy: 0.5272\n",
      "Epoch 43/50\n",
      "884/884 [==============================] - 246s 278ms/step - loss: 1.2719 - accuracy: 0.5050 - val_loss: 1.2179 - val_accuracy: 0.5221\n",
      "Epoch 44/50\n",
      "884/884 [==============================] - 244s 276ms/step - loss: 1.2621 - accuracy: 0.5118 - val_loss: 1.2333 - val_accuracy: 0.5176\n",
      "Epoch 45/50\n",
      "884/884 [==============================] - 244s 277ms/step - loss: 1.2561 - accuracy: 0.5148 - val_loss: 1.2195 - val_accuracy: 0.5254\n",
      "Epoch 46/50\n",
      "884/884 [==============================] - 245s 278ms/step - loss: 1.2631 - accuracy: 0.5100 - val_loss: 1.1923 - val_accuracy: 0.5364\n",
      "Epoch 47/50\n",
      "884/884 [==============================] - 248s 281ms/step - loss: 1.2520 - accuracy: 0.5173 - val_loss: 1.2248 - val_accuracy: 0.5172\n",
      "Epoch 48/50\n",
      "884/884 [==============================] - 278s 314ms/step - loss: 1.2573 - accuracy: 0.5123 - val_loss: 1.2037 - val_accuracy: 0.5304\n",
      "Epoch 49/50\n",
      "884/884 [==============================] - 279s 316ms/step - loss: 1.2509 - accuracy: 0.5155 - val_loss: 1.2158 - val_accuracy: 0.5261\n",
      "Epoch 50/50\n",
      "884/884 [==============================] - 279s 316ms/step - loss: 1.2533 - accuracy: 0.5151 - val_loss: 1.1971 - val_accuracy: 0.5349\n"
     ]
    },
    {
     "data": {
      "text/plain": [
       "<keras.callbacks.History at 0x26ddcccfa60>"
      ]
     },
     "execution_count": 29,
     "metadata": {},
     "output_type": "execute_result"
    }
   ],
   "source": [
    "cnn.fit(x = training_set, validation_data = test_set, epochs = 50)"
   ]
  },
  {
   "cell_type": "code",
   "execution_count": null,
   "metadata": {},
   "outputs": [],
   "source": []
  }
 ],
 "metadata": {
  "accelerator": "GPU",
  "colab": {
   "provenance": [],
   "toc_visible": true
  },
  "gpuClass": "standard",
  "kernelspec": {
   "display_name": "Python 3 (ipykernel)",
   "language": "python",
   "name": "python3"
  },
  "language_info": {
   "codemirror_mode": {
    "name": "ipython",
    "version": 3
   },
   "file_extension": ".py",
   "mimetype": "text/x-python",
   "name": "python",
   "nbconvert_exporter": "python",
   "pygments_lexer": "ipython3",
   "version": "3.9.7"
  }
 },
 "nbformat": 4,
 "nbformat_minor": 1
}
